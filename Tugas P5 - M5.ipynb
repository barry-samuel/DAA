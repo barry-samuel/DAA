{
 "cells": [
  {
   "cell_type": "markdown",
   "metadata": {},
   "source": [
    "## Mergesort\n",
    "21, 5, 9, 16, 30, 7"
   ]
  },
  {
   "cell_type": "code",
   "execution_count": 21,
   "metadata": {},
   "outputs": [],
   "source": [
    "def mergeSort(arrList):\n",
    "    # print(\"Splitting \",arrList)\n",
    "    if len(arrList)>1:\n",
    "        # splitting arr into two seperate arr\n",
    "        mid = len(arrList)//2 # define mid section\n",
    "        lefthalf = arrList[:mid] # left half of array\n",
    "        righthalf = arrList[mid:] # right half of array\n",
    "        \n",
    "        # recursive\n",
    "        mergeSort(lefthalf) # sorting left array\n",
    "        mergeSort(righthalf) # sorting right array\n",
    "        i=j=k=0 # initialize index\n",
    "        \n",
    "        #compare each value of array\n",
    "        while i < len(lefthalf) and j < len(righthalf):\n",
    "            \n",
    "            if lefthalf[i] < righthalf[j]:\n",
    "                arrList[k] = lefthalf[i] #saving value to the designated index, in this case it was \"k\" index\n",
    "                i += 1\n",
    "            else:\n",
    "                arrList[k] = righthalf[j]\n",
    "                j += 1\n",
    "            k += 1\n",
    "\n",
    "        while i < len(lefthalf):\n",
    "            arrList[k] = lefthalf[i]\n",
    "            i += 1\n",
    "            k += 1\n",
    "\n",
    "        while j < len(righthalf):\n",
    "            arrList[k] = righthalf[j]\n",
    "            j += 1\n",
    "            k += 1\n",
    "    # print(\"Merging \",nlist)"
   ]
  },
  {
   "cell_type": "code",
   "execution_count": 22,
   "metadata": {},
   "outputs": [
    {
     "name": "stdout",
     "output_type": "stream",
     "text": [
      "[5, 7, 9, 16, 21, 30]\n"
     ]
    }
   ],
   "source": [
    "arrList = [21, 5, 9, 16, 30, 7]\n",
    "mergeSort(arrList)\n",
    "print(arrList)"
   ]
  },
  {
   "cell_type": "markdown",
   "metadata": {},
   "source": [
    "## Quicksort\n",
    "17, 12, 57, 8, 16, 25"
   ]
  },
  {
   "cell_type": "code",
   "execution_count": 37,
   "metadata": {},
   "outputs": [],
   "source": [
    "def partition(arr, low, high):\n",
    "    i = (low - 1)\n",
    "    pivot = arr[high]\n",
    "    \n",
    "    for j in range(low, high):\n",
    "        if arr[j] <= pivot:\n",
    "            i += 1\n",
    "            arr[i],arr[j] = arr[j],arr[i] # swap operation\n",
    "            \n",
    "    arr[i+1], arr[high] = arr[high], arr[i+1]\n",
    "    return(i+1)\n",
    "\n",
    "def quickSort(arr, low, high):\n",
    "    if len(arr) == 1:\n",
    "        return arr\n",
    "    if low < high:\n",
    "        \n",
    "        # partition index\n",
    "        pi = partition(arr, low, high)\n",
    "        \n",
    "        quickSort(arr, low, pi-1)\n",
    "        quickSort(arr, pi+1, high)"
   ]
  },
  {
   "cell_type": "code",
   "execution_count": 38,
   "metadata": {},
   "outputs": [
    {
     "name": "stdout",
     "output_type": "stream",
     "text": [
      "[8, 12, 16, 17, 25, 57]\n"
     ]
    }
   ],
   "source": [
    "arr = [17, 12, 57, 8, 16, 25]\n",
    "quickSort(arr, 0, len(arr)-1)\n",
    "print(arr)"
   ]
  }
 ],
 "metadata": {
  "kernelspec": {
   "display_name": "Python 3",
   "language": "python",
   "name": "python3"
  },
  "language_info": {
   "codemirror_mode": {
    "name": "ipython",
    "version": 3
   },
   "file_extension": ".py",
   "mimetype": "text/x-python",
   "name": "python",
   "nbconvert_exporter": "python",
   "pygments_lexer": "ipython3",
   "version": "3.8.5"
  }
 },
 "nbformat": 4,
 "nbformat_minor": 4
}
